{
  "cells": [
    {
      "cell_type": "markdown",
      "metadata": {
        "id": "ca2CpPPUvO-h"
      },
      "source": [
        "# **Google Colab Tutorial**\n",
        "\n",
        "Video: https://youtu.be/YmPF0jrWn6Y\n",
        "Should you have any question, contact TAs via <br/> ntu-ml-2022spring-ta@googlegroups.com\n"
      ]
    },
    {
      "cell_type": "markdown",
      "metadata": {
        "id": "xIN7RF4wjgHk"
      },
      "source": [
        "<p><img alt=\"Colaboratory logo\" height=\"45px\" src=\"/img/colab_favicon.ico\" align=\"left\" hspace=\"10px\" vspace=\"0px\"></p>\n",
        "\n",
        "<h1>What is Colaboratory?</h1>\n",
        "\n",
        "Colaboratory, or \"Colab\" for short, allows you to write and execute Python in your browser, with \n",
        "- Zero configuration required\n",
        "- Free access to GPUs\n",
        "- Easy sharing\n",
        "\n",
        "Whether you're a **student**, a **data scientist** or an **AI researcher**, Colab can make your work easier. Watch [Introduction to Colab](https://www.youtube.com/watch?v=inN8seMm7UI) to learn more, or just get started below!\n",
        "\n",
        "You can type python code in the code block, or use a leading exclamation mark ! to change the code block to bash environment to execute linux code."
      ]
    },
    {
      "cell_type": "markdown",
      "metadata": {
        "id": "IrAxlhp3VBMD"
      },
      "source": [
        "To utilize the free GPU provided by google, click on \"Runtime\"(執行階段) -> \"Change Runtime Type\"(變更執行階段類型). There are three options under \"Hardward Accelerator\"(硬體加速器), select \"GPU\". \n",
        "* Doing this will restart the session, so make sure you change to the desired runtime before executing any code.\n"
      ]
    },
    {
      "cell_type": "code",
      "execution_count": 1,
      "metadata": {
        "colab": {
          "base_uri": "https://localhost:8080/"
        },
        "id": "CLUWxZKbvQpx",
        "outputId": "ad5ee344-67fa-4e6f-e99f-0d7a289517a5"
      },
      "outputs": [
        {
          "data": {
            "text/plain": [
              "True"
            ]
          },
          "execution_count": 1,
          "metadata": {},
          "output_type": "execute_result"
        }
      ],
      "source": [
        "import torch\n",
        "torch.cuda.is_available() # is GPU available\n",
        "# Outputs True if running with GPU"
      ]
    },
    {
      "cell_type": "code",
      "execution_count": 2,
      "metadata": {
        "colab": {
          "base_uri": "https://localhost:8080/"
        },
        "id": "1jpUD08lMiDa",
        "outputId": "ca16beaf-6200-46d7-d64c-b926eea744ba"
      },
      "outputs": [
        {
          "name": "stdout",
          "output_type": "stream",
          "text": [
            "Mon Feb 10 11:01:31 2025       \n",
            "+-----------------------------------------------------------------------------------------+\n",
            "| NVIDIA-SMI 572.16                 Driver Version: 572.16         CUDA Version: 12.8     |\n",
            "|-----------------------------------------+------------------------+----------------------+\n",
            "| GPU  Name                  Driver-Model | Bus-Id          Disp.A | Volatile Uncorr. ECC |\n",
            "| Fan  Temp   Perf          Pwr:Usage/Cap |           Memory-Usage | GPU-Util  Compute M. |\n",
            "|                                         |                        |               MIG M. |\n",
            "|=========================================+========================+======================|\n",
            "|   0  NVIDIA GeForce GTX 1070 Ti   WDDM  |   00000000:01:00.0  On |                  N/A |\n",
            "|  0%   51C    P0             41W /  180W |     796MiB /   8192MiB |      2%      Default |\n",
            "|                                         |                        |                  N/A |\n",
            "+-----------------------------------------+------------------------+----------------------+\n",
            "                                                                                         \n",
            "+-----------------------------------------------------------------------------------------+\n",
            "| Processes:                                                                              |\n",
            "|  GPU   GI   CI              PID   Type   Process name                        GPU Memory |\n",
            "|        ID   ID                                                               Usage      |\n",
            "|=========================================================================================|\n",
            "|    0   N/A  N/A            1120    C+G   ...ms\\Microsoft VS Code\\Code.exe      N/A      |\n",
            "|    0   N/A  N/A            1588    C+G   C:\\Windows\\System32\\dwm.exe           N/A      |\n",
            "|    0   N/A  N/A            1732    C+G   ...ng\\Sysdiag\\bin\\HipsDaemon.exe      N/A      |\n",
            "|    0   N/A  N/A            7960    C+G   C:\\Windows\\explorer.exe               N/A      |\n",
            "|    0   N/A  N/A            9096    C+G   ...IA app\\CEF\\NVIDIA Overlay.exe      N/A      |\n",
            "|    0   N/A  N/A            9516    C+G   ...y\\StartMenuExperienceHost.exe      N/A      |\n",
            "|    0   N/A  N/A            9992    C+G   ...IA app\\CEF\\NVIDIA Overlay.exe      N/A      |\n",
            "|    0   N/A  N/A           10236    C+G   ...h_cw5n1h2txyewy\\SearchApp.exe      N/A      |\n",
            "|    0   N/A  N/A           11008    C+G   ...5n1h2txyewy\\TextInputHost.exe      N/A      |\n",
            "|    0   N/A  N/A           11224    C+G   ...ntrolPanel\\SystemSettings.exe      N/A      |\n",
            "|    0   N/A  N/A           11932    C+G   ...t\\Edge\\Application\\msedge.exe      N/A      |\n",
            "|    0   N/A  N/A           13260    C+G   ...crosoft\\OneDrive\\OneDrive.exe      N/A      |\n",
            "|    0   N/A  N/A           14896    C+G   ...em_tray\\lghub_system_tray.exe      N/A      |\n",
            "|    0   N/A  N/A           14992    C+G   ...ef.win7x64\\steamwebhelper.exe      N/A      |\n",
            "|    0   N/A  N/A           16816    C+G   ...xyewy\\ShellExperienceHost.exe      N/A      |\n",
            "|    0   N/A  N/A           17384    C+G   ...ram Files\\Hiddify\\Hiddify.exe      N/A      |\n",
            "+-----------------------------------------------------------------------------------------+\n"
          ]
        }
      ],
      "source": [
        "# check allocated GPU type\n",
        "!nvidia-smi"
      ]
    },
    {
      "cell_type": "markdown",
      "metadata": {
        "id": "EAM_tPQAELh0"
      },
      "source": [
        "**1. Download Files via google drive**\n",
        "\n",
        "  A file stored in Google Drive has the following sharing link：\n",
        "\n",
        "https://drive.google.com/open?id=1sUr1x-GhJ_80vIGzVGEqFUSDYfwV50YW\n",
        "  \n",
        "  The random string after \"open?id=\" is the **file_id** <br />\n",
        "![](https://i.imgur.com/77AeV88l.png)\n",
        "\n",
        "  It is possible to download the file via Colab knowing the **file_id**, using the following command.\n",
        "\n",
        "\n",
        "\n",
        "\n"
      ]
    },
    {
      "cell_type": "code",
      "execution_count": 1,
      "metadata": {
        "colab": {
          "base_uri": "https://localhost:8080/"
        },
        "id": "XztYEj0oD7J3",
        "outputId": "83ddde6e-d745-4a0f-bb8f-dab8243a1dca"
      },
      "outputs": [
        {
          "name": "stderr",
          "output_type": "stream",
          "text": [
            "'gdown' �����ڲ����ⲿ���Ҳ���ǿ����еĳ���\n",
            "���������ļ���\n"
          ]
        }
      ],
      "source": [
        "# Download the file with file_id \"sUr1x-GhJ_80vIGzVGEqFUSDYfwV50YW\", and rename it to pikachu.png\n",
        "!gdown --id '1sUr1x-GhJ_80vIGzVGEqFUSDYfwV50YW' --output pikachu.png"
      ]
    },
    {
      "cell_type": "code",
      "execution_count": 4,
      "metadata": {
        "colab": {
          "base_uri": "https://localhost:8080/"
        },
        "id": "Gg3T23LXG-eL",
        "outputId": "0dd8a3ca-85d5-4bc0-d593-4a3ab1bbfc99"
      },
      "outputs": [
        {
          "name": "stderr",
          "output_type": "stream",
          "text": [
            "'ls' �����ڲ����ⲿ���Ҳ���ǿ����еĳ���\n",
            "���������ļ���\n"
          ]
        }
      ],
      "source": [
        "# List all the files under the working directory\n",
        "!ls"
      ]
    },
    {
      "cell_type": "markdown",
      "metadata": {
        "id": "38dcGQujOVWM"
      },
      "source": [
        "Exclamation mark (!) starts a new shell, does the operations, and then kills that shell, while percentage (%) affects the process associated with the notebook"
      ]
    },
    {
      "cell_type": "markdown",
      "metadata": {
        "id": "dOQxjfAZAsys"
      },
      "source": [
        "It can be seen that `pikachu.png` is saved the the current working directory. \n",
        "\n",
        "![](https://i.imgur.com/bonrOlgm.png)\n",
        "\n",
        "The working space is temporary, once you close the browser, the files will be gone.\n"
      ]
    },
    {
      "cell_type": "markdown",
      "metadata": {
        "id": "50uppJXgZwmW"
      },
      "source": [
        "Double click to view image\n",
        "\n",
        "![](https://i.imgur.com/DTywPzAm.png)"
      ]
    },
    {
      "cell_type": "markdown",
      "metadata": {
        "id": "k_gmTo9NKtu9"
      },
      "source": [
        "**2. Mounting Google Drive**\n",
        "\n",
        "  One advantage of using google colab is that connection with other google services such as Google Drive is simple. By mounting google drive, the working files can be stored permanantly. After executing the following code block, your google drive will be mounted at `/content/drive`"
      ]
    },
    {
      "cell_type": "markdown",
      "metadata": {
        "id": "FyrDicHSYlb2"
      },
      "source": [
        "![](https://i.imgur.com/IbMf5Tg.png)"
      ]
    },
    {
      "cell_type": "code",
      "execution_count": 5,
      "metadata": {
        "colab": {
          "base_uri": "https://localhost:8080/",
          "height": 347
        },
        "id": "BmvzTF5IJ6TL",
        "outputId": "84238034-a652-4f6d-dadf-421199e4f9a6"
      },
      "outputs": [
        {
          "ename": "ModuleNotFoundError",
          "evalue": "No module named 'google.colab'",
          "output_type": "error",
          "traceback": [
            "\u001b[1;31m---------------------------------------------------------------------------\u001b[0m",
            "\u001b[1;31mModuleNotFoundError\u001b[0m                       Traceback (most recent call last)",
            "Cell \u001b[1;32mIn[5], line 1\u001b[0m\n\u001b[1;32m----> 1\u001b[0m \u001b[38;5;28;01mfrom\u001b[39;00m \u001b[38;5;21;01mgoogle\u001b[39;00m\u001b[38;5;21;01m.\u001b[39;00m\u001b[38;5;21;01mcolab\u001b[39;00m \u001b[38;5;28;01mimport\u001b[39;00m drive\n\u001b[0;32m      2\u001b[0m drive\u001b[38;5;241m.\u001b[39mmount(\u001b[38;5;124m'\u001b[39m\u001b[38;5;124m/content/drive\u001b[39m\u001b[38;5;124m'\u001b[39m)\n",
            "\u001b[1;31mModuleNotFoundError\u001b[0m: No module named 'google.colab'"
          ]
        }
      ],
      "source": [
        "from google.colab import drive\n",
        "drive.mount('/content/drive')"
      ]
    },
    {
      "cell_type": "markdown",
      "metadata": {
        "id": "AkmayCmGMD03"
      },
      "source": [
        "After mounting the drive, the content of the google drive will be mounted on a directory named `MyDrive`\n",
        "\n",
        "![](https://i.imgur.com/jDtI10Cm.png)"
      ]
    },
    {
      "cell_type": "markdown",
      "metadata": {
        "id": "UhKhwipoMvXF"
      },
      "source": [
        "After mounting the drive, all the changes will be synced with the google drive.\n",
        "Since models could be quite large, make sure that your google drive has enough space."
      ]
    },
    {
      "cell_type": "code",
      "execution_count": null,
      "metadata": {
        "colab": {
          "base_uri": "https://localhost:8080/"
        },
        "id": "UT0TEPRS7KF6",
        "outputId": "291edb11-1341-405b-ec74-d915976ff90c"
      },
      "outputs": [
        {
          "name": "stdout",
          "output_type": "stream",
          "text": [
            "[Errno 2] No such file or directory: '/content/drive/MyDrive'\n",
            "/content\n",
            "/content/ML2022\n"
          ]
        }
      ],
      "source": [
        "%cd /content/drive/MyDrive \n",
        "#change directory to google drive\n",
        "!mkdir ML2022 #make a directory named ML2022\n",
        "%cd ./ML2022 \n",
        "#change directory to ML2022"
      ]
    },
    {
      "cell_type": "markdown",
      "metadata": {
        "id": "Oj13Q58QerAx"
      },
      "source": [
        "Use bash command pwd to output the current directory"
      ]
    },
    {
      "cell_type": "code",
      "execution_count": null,
      "metadata": {
        "colab": {
          "base_uri": "https://localhost:8080/"
        },
        "id": "-S8l1-ReepkS",
        "outputId": "051dc816-95b9-4922-bab9-b0c40b3d7909"
      },
      "outputs": [
        {
          "name": "stdout",
          "output_type": "stream",
          "text": [
            "/content/ML2022\n"
          ]
        }
      ],
      "source": [
        "!pwd #output the current directory"
      ]
    },
    {
      "cell_type": "markdown",
      "metadata": {
        "id": "qSSvrDaBiDrP"
      },
      "source": [
        "Repeat the downloading process, this time, the file will be stored permanently in your google drive."
      ]
    },
    {
      "cell_type": "code",
      "execution_count": null,
      "metadata": {
        "colab": {
          "base_uri": "https://localhost:8080/"
        },
        "id": "b39YMYicASvP",
        "outputId": "0b08768d-2154-4a6a-d03c-e04f966f87ed"
      },
      "outputs": [
        {
          "name": "stdout",
          "output_type": "stream",
          "text": [
            "Downloading...\n",
            "From: https://drive.google.com/uc?id=1sUr1x-GhJ_80vIGzVGEqFUSDYfwV50YW\n",
            "To: /content/ML2022/pikachu.png\n",
            "\r  0% 0.00/204k [00:00<?, ?B/s]\r100% 204k/204k [00:00<00:00, 82.1MB/s]\n"
          ]
        }
      ],
      "source": [
        "!gdown --id '1sUr1x-GhJ_80vIGzVGEqFUSDYfwV50YW' --output pikachu.png"
      ]
    },
    {
      "cell_type": "markdown",
      "metadata": {
        "id": "BRTF7yxTY-aE"
      },
      "source": [
        "Check the file structure\n",
        "\n",
        "![](https://i.imgur.com/DbligmOt.png)"
      ]
    },
    {
      "cell_type": "markdown",
      "metadata": {
        "id": "D0URgikZXl5I"
      },
      "source": [
        "For all the homeworks, the data can be downloaded and stored similar as demonstrated in this notebook. "
      ]
    }
  ],
  "metadata": {
    "accelerator": "GPU",
    "colab": {
      "collapsed_sections": [],
      "name": "Google Colab Tutorial 2022",
      "provenance": []
    },
    "kernelspec": {
      "display_name": "Pytorch",
      "language": "python",
      "name": "pytorch"
    },
    "language_info": {
      "codemirror_mode": {
        "name": "ipython",
        "version": 3
      },
      "file_extension": ".py",
      "mimetype": "text/x-python",
      "name": "python",
      "nbconvert_exporter": "python",
      "pygments_lexer": "ipython3",
      "version": "3.12.7"
    }
  },
  "nbformat": 4,
  "nbformat_minor": 0
}
